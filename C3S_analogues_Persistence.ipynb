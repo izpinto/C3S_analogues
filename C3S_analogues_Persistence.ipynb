{
 "cells": [
  {
   "cell_type": "code",
   "execution_count": 1,
   "id": "ef5405a8",
   "metadata": {},
   "outputs": [],
   "source": [
    "## Jupyter notebook in python\n",
    "## Calculates the persistence of the event and its best analogues from 2 timeslices\n",
    "\n",
    "## Caveat: "
   ]
  },
  {
   "cell_type": "code",
   "execution_count": 2,
   "id": "0eae2f9b",
   "metadata": {},
   "outputs": [
    {
     "name": "stderr",
     "output_type": "stream",
     "text": [
      "/tmp/ipykernel_2961312/2326992444.py:19: DeprecationWarning: Please use `pearsonr` from the `scipy.stats` namespace, the `scipy.stats.stats` namespace is deprecated.\n",
      "  from scipy.stats.stats import pearsonr\n"
     ]
    }
   ],
   "source": [
    "import analogue_functions_C3S as my\n",
    "\n",
    "import xarray as xr\n",
    "import os\n",
    "import subprocess\n",
    "import numpy as np\n",
    "import iris\n",
    "import calendar\n",
    "import matplotlib.pyplot as plt\n",
    "import matplotlib\n",
    "cmaps = matplotlib.colormaps\n",
    "import sys\n",
    "import cartopy.crs as ccrs\n",
    "import cartopy as cart\n",
    "import cartopy.feature as cf\n",
    "import netCDF4 as nc\n",
    "import glob\n",
    "\n",
    "from scipy.stats.stats import pearsonr\n",
    "import scipy.stats as stats"
   ]
  },
  {
   "cell_type": "code",
   "execution_count": 3,
   "id": "5d1c699a",
   "metadata": {},
   "outputs": [],
   "source": [
    "# Defining the variables:\n",
    "date = [2025, 'Jul', 1] \n",
    "R1= [70, 35, 30, -20]\n",
    "ana_var = 'z500' # 'msl' or 'z500'\n",
    "\n",
    "\n"
   ]
  },
  {
   "cell_type": "code",
   "execution_count": 4,
   "id": "c9df2c29",
   "metadata": {},
   "outputs": [],
   "source": [
    "### Automated variables - can be adjusted for sensitivity testing\n",
    "\n",
    "# months to include, automatically three calendar month window around the event\n",
    "month = date[1]\n",
    "X = list(calendar.month_abbr)\n",
    "i=X.index(month)\n",
    "if 1<i<12:\n",
    "    months = [X[i-1], X[i], X[i+1]]\n",
    "elif i == 1:\n",
    "    months = [X[12], X[i], X[i+1]]\n",
    "elif i ==12:\n",
    "    months = [X[i-1], X[i], X[1]]\n",
    "\n",
    "# Or use this line to manually select different month set (can be full year)\n",
    "#months = ['Jan','Feb','Mar','Apr','May','Jun','Jul','Aug','Sep','Oct','Nov','Dec']\n",
    "#months = ['Mar','Apr','May']\n",
    "\n",
    "# start and end of timeslices. Both timeslices should be same length for fair comparison\n",
    "Y1 = 1950 # timeslice 1 start year\n",
    "Y2 = 1980 # timeslice 1 end year\n",
    "Y3 = 1994 # timeslice 2 start year\n",
    "Y4 = 2024 # timeslice 2 end year\n",
    "\n",
    "# number of analogues to use - set at 1% (assuming 30 day months) of timeslice 1 days \n",
    "N = int(((Y2-Y1)*len(months)*30)/100)\n",
    "# Or use this line to manually select N\n",
    "# N = 30"
   ]
  },
  {
   "cell_type": "code",
   "execution_count": 5,
   "id": "039e175d",
   "metadata": {},
   "outputs": [
    {
     "name": "stdout",
     "output_type": "stream",
     "text": [
      "Read file: /net/pc230042/nobackup/users/sager/nobackup_2_old/ERA5-CX-READY/era5_t2m_daily.nc for date [2025, 'Jul', 1]\n",
      "ERA5 data not yet available, using ECMWF extended forecast for event data\n",
      "Read file: /net/pc230042/nobackup/users/sager/nobackup_2_old/ERA5-CX-READY/era5_t2m_daily_extended.nc for date [2025, 'Jul', 1]\n"
     ]
    },
    {
     "data": {
      "text/plain": [
       "'_daily_extended'"
      ]
     },
     "execution_count": 5,
     "metadata": {},
     "output_type": "execute_result"
    }
   ],
   "source": [
    "# Check if using ERA5 or extended forecast (for when ERA5 not yet available)\n",
    "event_data = 'era5'\n",
    "# Initially using ERA5 daily data, if that gives no data switch to extended:\n",
    "if my.reanalysis_data_single_date('t2m', date)==None:\n",
    "    my.ERA5FILESUFFIX = \"_daily_extended\"\n",
    "    event_data = \"extended\"\n",
    "    print('ERA5 data not yet available, using ECMWF extended forecast for event data')\n",
    "\n",
    "# If extended also not available give error message:\n",
    "if my.reanalysis_data_single_date('t2m', date)==None:\n",
    "    print('Data is not available for that date, please select a date between 1 Jan 1950 and the present day')\n",
    "    quit() ## If the date has not data (ERA5 or extended) then stop here, and print message above\n",
    "\n",
    "# Check what it is using:\n",
    "my.ERA5FILESUFFIX"
   ]
  },
  {
   "cell_type": "code",
   "execution_count": 6,
   "id": "2da71e97",
   "metadata": {},
   "outputs": [
    {
     "name": "stderr",
     "output_type": "stream",
     "text": [
      "/usr/people/thompson/anaconda3/envs/butterfly/lib/python3.9/site-packages/iris/cube.py:3859: UserWarning: Collapsing spatial coordinate 'latitude' without weighting\n",
      "  warnings.warn(msg.format(coord.name()))\n",
      "/usr/people/thompson/anaconda3/envs/butterfly/lib/python3.9/site-packages/iris/coords.py:2237: UserWarning: Cannot check if coordinate is contiguous: Invalid operation for 'latitude', with 0 bound(s). Contiguous bounds are only defined for 1D coordinates with 2 bounds. Metadata may not be fully descriptive for 'latitude'. Ignoring bounds.\n",
      "  warnings.warn(msg.format(str(exc), self.name()))\n",
      "/usr/people/thompson/anaconda3/envs/butterfly/lib/python3.9/site-packages/iris/coords.py:2237: UserWarning: Cannot check if coordinate is contiguous: Invalid operation for 'longitude', with 0 bound(s). Contiguous bounds are only defined for 1D coordinates with 2 bounds. Metadata may not be fully descriptive for 'longitude'. Ignoring bounds.\n",
      "  warnings.warn(msg.format(str(exc), self.name()))\n"
     ]
    },
    {
     "name": "stdout",
     "output_type": "stream",
     "text": [
      "Read file: /net/pc230042/nobackup/users/sager/nobackup_2_old/ERA5-CX-READY/era5_z500_daily_extended.nc for date [2025, 'Jul', 1]\n"
     ]
    },
    {
     "name": "stderr",
     "output_type": "stream",
     "text": [
      "/usr/people/thompson/anaconda3/envs/butterfly/lib/python3.9/site-packages/iris/cube.py:3859: UserWarning: Collapsing spatial coordinate 'latitude' without weighting\n",
      "  warnings.warn(msg.format(coord.name()))\n",
      "/usr/people/thompson/anaconda3/envs/butterfly/lib/python3.9/site-packages/iris/coords.py:2237: UserWarning: Cannot check if coordinate is contiguous: Invalid operation for 'latitude', with 0 bound(s). Contiguous bounds are only defined for 1D coordinates with 2 bounds. Metadata may not be fully descriptive for 'latitude'. Ignoring bounds.\n",
      "  warnings.warn(msg.format(str(exc), self.name()))\n",
      "/usr/people/thompson/anaconda3/envs/butterfly/lib/python3.9/site-packages/iris/coords.py:2237: UserWarning: Cannot check if coordinate is contiguous: Invalid operation for 'longitude', with 0 bound(s). Contiguous bounds are only defined for 1D coordinates with 2 bounds. Metadata may not be fully descriptive for 'longitude'. Ignoring bounds.\n",
      "  warnings.warn(msg.format(str(exc), self.name()))\n",
      "/usr/people/thompson/anaconda3/envs/butterfly/lib/python3.9/site-packages/iris/analysis/cartography.py:413: UserWarning: Using DEFAULT_SPHERICAL_EARTH_RADIUS.\n",
      "  warnings.warn(\"Using DEFAULT_SPHERICAL_EARTH_RADIUS.\")\n",
      "/usr/people/thompson/anaconda3/envs/butterfly/lib/python3.9/site-packages/iris/cube.py:3859: UserWarning: Collapsing spatial coordinate 'latitude' without weighting\n",
      "  warnings.warn(msg.format(coord.name()))\n",
      "/usr/people/thompson/anaconda3/envs/butterfly/lib/python3.9/site-packages/iris/coords.py:2237: UserWarning: Cannot check if coordinate is contiguous: Invalid operation for 'latitude', with 0 bound(s). Contiguous bounds are only defined for 1D coordinates with 2 bounds. Metadata may not be fully descriptive for 'latitude'. Ignoring bounds.\n",
      "  warnings.warn(msg.format(str(exc), self.name()))\n",
      "/usr/people/thompson/anaconda3/envs/butterfly/lib/python3.9/site-packages/iris/coords.py:2237: UserWarning: Cannot check if coordinate is contiguous: Invalid operation for 'longitude', with 0 bound(s). Contiguous bounds are only defined for 1D coordinates with 2 bounds. Metadata may not be fully descriptive for 'longitude'. Ignoring bounds.\n",
      "  warnings.warn(msg.format(str(exc), self.name()))\n"
     ]
    },
    {
     "name": "stdout",
     "output_type": "stream",
     "text": [
      "Read file: /net/pc230042/nobackup/users/sager/nobackup_2_old/ERA5-CX-READY/era5_z500_daily_extended.nc for date [2025, 'Jul', 1]\n"
     ]
    },
    {
     "name": "stderr",
     "output_type": "stream",
     "text": [
      "/usr/people/thompson/anaconda3/envs/butterfly/lib/python3.9/site-packages/iris/cube.py:3859: UserWarning: Collapsing spatial coordinate 'latitude' without weighting\n",
      "  warnings.warn(msg.format(coord.name()))\n",
      "/usr/people/thompson/anaconda3/envs/butterfly/lib/python3.9/site-packages/iris/coords.py:2237: UserWarning: Cannot check if coordinate is contiguous: Invalid operation for 'latitude', with 0 bound(s). Contiguous bounds are only defined for 1D coordinates with 2 bounds. Metadata may not be fully descriptive for 'latitude'. Ignoring bounds.\n",
      "  warnings.warn(msg.format(str(exc), self.name()))\n",
      "/usr/people/thompson/anaconda3/envs/butterfly/lib/python3.9/site-packages/iris/coords.py:2237: UserWarning: Cannot check if coordinate is contiguous: Invalid operation for 'longitude', with 0 bound(s). Contiguous bounds are only defined for 1D coordinates with 2 bounds. Metadata may not be fully descriptive for 'longitude'. Ignoring bounds.\n",
      "  warnings.warn(msg.format(str(exc), self.name()))\n",
      "/usr/people/thompson/anaconda3/envs/butterfly/lib/python3.9/site-packages/iris/analysis/cartography.py:413: UserWarning: Using DEFAULT_SPHERICAL_EARTH_RADIUS.\n",
      "  warnings.warn(\"Using DEFAULT_SPHERICAL_EARTH_RADIUS.\")\n"
     ]
    }
   ],
   "source": [
    "PAST = my.anomaly_period_outputs(Y1, Y2, ana_var, N, date, months, R1)\n",
    "PRST = my.anomaly_period_outputs(Y3, Y4, ana_var, N, date, months, R1)"
   ]
  },
  {
   "cell_type": "code",
   "execution_count": 7,
   "id": "0da0d774",
   "metadata": {},
   "outputs": [],
   "source": [
    "def correlation_coeffs(field, event):\n",
    "    '''\n",
    "    Returns list of C, calc using linear pearsonr, area averaging applied\n",
    "    Inputs required:\n",
    "    field = single cube of analogues field.\n",
    "    event = cube of single day of event to match.\n",
    "    BOTH MUST HAVE SAME DIMENSIONS FOR LAT/LON\n",
    "    '''\n",
    "    C = [] # to be list of all correlation coefficients\n",
    "    if not event.coord('latitude').has_bounds():\n",
    "        event.coord('latitude').guess_bounds()\n",
    "    if not event.coord('longitude').has_bounds():\n",
    "        event.coord('longitude').guess_bounds()\n",
    "    event = my.set_coord_system(event)\n",
    "    weights=iris.analysis.cartography.area_weights(event)\n",
    "    event=event*weights\n",
    "    a, b, c =np.shape(field) \n",
    "    field=field*np.array([weights]*a) \n",
    "    XA= event.data.reshape(b*c,1)\n",
    "    XB = field.data.reshape(np.shape(field.data)[0],b*c,1)\n",
    "    for i in range(a):\n",
    "        day = field[i,:,:]\n",
    "        XA = event.data.reshape(b*c)\n",
    "        XB = day.data.reshape(b*c)\n",
    "        C.append(pearsonr(XA, XB)[0])\n",
    "    return C\n"
   ]
  },
  {
   "cell_type": "code",
   "execution_count": 8,
   "id": "de9f001f",
   "metadata": {},
   "outputs": [
    {
     "name": "stdout",
     "output_type": "stream",
     "text": [
      "Read file: /net/pc230042/nobackup/users/sager/nobackup_2_old/ERA5-CX-READY/era5_z500_daily_extended.nc for date [2025, 'Jul', 1]\n"
     ]
    }
   ],
   "source": [
    "E = my.extract_region(my.reanalysis_data_single_date(ana_var, date), R1)\n",
    "P1_msl = my.extract_region(my.reanalysis_data(ana_var, date[0], date[0]+1, months), R1)\n",
    "C = correlation_coeffs(P1_msl, E)\n",
    "\n"
   ]
  },
  {
   "cell_type": "code",
   "execution_count": 9,
   "id": "43b12b2e",
   "metadata": {},
   "outputs": [
    {
     "data": {
      "image/png": "[encoded data removed]",
      "text/plain": [
       "<Figure size 640x480 with 1 Axes>"
      ]
     },
     "metadata": {},
     "output_type": "display_data"
    }
   ],
   "source": [
    "plt.plot(C) # to choose the right level for coeff\n",
    "plt.ylabel('Correlation coefficient')\n",
    "plt.grid()"
   ]
  },
  {
   "cell_type": "markdown",
   "id": "f8a083fa",
   "metadata": {},
   "source": [
    "In the next cell the coefficient threshold must be input, decided from the above plot - isolate the event (which will exhibit coeff = 1) whilst including the whole peak, not only the tip"
   ]
  },
  {
   "cell_type": "code",
   "execution_count": 10,
   "id": "0d7f7b43",
   "metadata": {},
   "outputs": [],
   "source": [
    "# Determined from above plot\n",
    "coeff = 0.999"
   ]
  },
  {
   "cell_type": "code",
   "execution_count": 11,
   "id": "41c8e2ce",
   "metadata": {},
   "outputs": [
    {
     "name": "stdout",
     "output_type": "stream",
     "text": [
      "7\n"
     ]
    }
   ],
   "source": [
    "\n",
    "W = C.index(np.max(C))\n",
    "n = 0\n",
    "for i in np.arange(W-10, W+4):\n",
    "    if C[i] > coeff: n+= 1\n",
    "\n",
    "print(n)\n",
    "P_event = n"
   ]
  },
  {
   "cell_type": "code",
   "execution_count": 13,
   "id": "76ce17f9",
   "metadata": {},
   "outputs": [
    {
     "name": "stdout",
     "output_type": "stream",
     "text": [
      "Read file: /net/pc230042/nobackup/users/sager/nobackup_2_old/ERA5-CX-READY/era5_z500_daily.nc for date [1964, 'Aug', 26]\n",
      "4 0\n",
      "Read file: /net/pc230042/nobackup/users/sager/nobackup_2_old/ERA5-CX-READY/era5_z500_daily.nc for date [1969, 'Jul', 22]\n",
      "14 1\n",
      "Read file: /net/pc230042/nobackup/users/sager/nobackup_2_old/ERA5-CX-READY/era5_z500_daily.nc for date [1952, 'Jul', 2]\n",
      "8 2\n",
      "Read file: /net/pc230042/nobackup/users/sager/nobackup_2_old/ERA5-CX-READY/era5_z500_daily.nc for date [1952, 'Jun', 5]\n",
      "5 3\n",
      "Read file: /net/pc230042/nobackup/users/sager/nobackup_2_old/ERA5-CX-READY/era5_z500_daily.nc for date [1953, 'Aug', 12]\n",
      "5 4\n",
      "Read file: /net/pc230042/nobackup/users/sager/nobackup_2_old/ERA5-CX-READY/era5_z500_daily.nc for date [1969, 'Jul', 16]\n",
      "7 5\n",
      "Read file: /net/pc230042/nobackup/users/sager/nobackup_2_old/ERA5-CX-READY/era5_z500_daily.nc for date [1967, 'Jul', 30]\n",
      "12 6\n",
      "Read file: /net/pc230042/nobackup/users/sager/nobackup_2_old/ERA5-CX-READY/era5_z500_daily.nc for date [1973, 'Jun', 30]\n",
      "12 7\n",
      "Read file: /net/pc230042/nobackup/users/sager/nobackup_2_old/ERA5-CX-READY/era5_z500_daily.nc for date [1968, 'Jul', 1]\n",
      "3 8\n",
      "Read file: /net/pc230042/nobackup/users/sager/nobackup_2_old/ERA5-CX-READY/era5_z500_daily.nc for date [1950, 'Jul', 20]\n",
      "14 9\n",
      "Read file: /net/pc230042/nobackup/users/sager/nobackup_2_old/ERA5-CX-READY/era5_z500_daily.nc for date [1951, 'Jul', 31]\n",
      "7 10\n",
      "Read file: /net/pc230042/nobackup/users/sager/nobackup_2_old/ERA5-CX-READY/era5_z500_daily.nc for date [1961, 'Aug', 29]\n",
      "5 11\n",
      "Read file: /net/pc230042/nobackup/users/sager/nobackup_2_old/ERA5-CX-READY/era5_z500_daily.nc for date [1956, 'Jul', 8]\n",
      "7 12\n",
      "Read file: /net/pc230042/nobackup/users/sager/nobackup_2_old/ERA5-CX-READY/era5_z500_daily.nc for date [1973, 'Aug', 10]\n",
      "13 13\n",
      "Read file: /net/pc230042/nobackup/users/sager/nobackup_2_old/ERA5-CX-READY/era5_z500_daily.nc for date [1970, 'Jun', 26]\n",
      "7 14\n",
      "Read file: /net/pc230042/nobackup/users/sager/nobackup_2_old/ERA5-CX-READY/era5_z500_daily.nc for date [1957, 'Jul', 1]\n",
      "7 15\n",
      "Read file: /net/pc230042/nobackup/users/sager/nobackup_2_old/ERA5-CX-READY/era5_z500_daily.nc for date [1964, 'Jul', 14]\n",
      "4 16\n",
      "Read file: /net/pc230042/nobackup/users/sager/nobackup_2_old/ERA5-CX-READY/era5_z500_daily.nc for date [1975, 'Aug', 20]\n",
      "5 17\n",
      "Read file: /net/pc230042/nobackup/users/sager/nobackup_2_old/ERA5-CX-READY/era5_z500_daily.nc for date [1965, 'Aug', 19]\n",
      "5 18\n",
      "Read file: /net/pc230042/nobackup/users/sager/nobackup_2_old/ERA5-CX-READY/era5_z500_daily.nc for date [1970, 'Aug', 13]\n",
      "4 19\n",
      "Read file: /net/pc230042/nobackup/users/sager/nobackup_2_old/ERA5-CX-READY/era5_z500_daily.nc for date [1972, 'Aug', 6]\n",
      "5 20\n",
      "Read file: /net/pc230042/nobackup/users/sager/nobackup_2_old/ERA5-CX-READY/era5_z500_daily.nc for date [1974, 'Aug', 25]\n",
      "8 21\n",
      "Read file: /net/pc230042/nobackup/users/sager/nobackup_2_old/ERA5-CX-READY/era5_z500_daily.nc for date [1974, 'Aug', 15]\n",
      "4 22\n",
      "Read file: /net/pc230042/nobackup/users/sager/nobackup_2_old/ERA5-CX-READY/era5_z500_daily.nc for date [1976, 'Jul', 19]\n",
      "7 23\n",
      "Read file: /net/pc230042/nobackup/users/sager/nobackup_2_old/ERA5-CX-READY/era5_z500_daily.nc for date [1962, 'Jun', 15]\n",
      "6 24\n",
      "Read file: /net/pc230042/nobackup/users/sager/nobackup_2_old/ERA5-CX-READY/era5_z500_daily.nc for date [1963, 'Jul', 15]\n",
      "6 25\n",
      "Read file: /net/pc230042/nobackup/users/sager/nobackup_2_old/ERA5-CX-READY/era5_z500_daily.nc for date [1951, 'Jun', 14]\n",
      "9 26\n"
     ]
    }
   ],
   "source": [
    "my.ERA5FILESUFFIX = \"_daily\"\n",
    "P_past =[]\n",
    "for date in PAST:\n",
    "    year = int(date[:4])\n",
    "    month = calendar.month_abbr[int(date[4:-2])]\n",
    "    day = int(date[-2:])\n",
    "    E = my.extract_region(my.reanalysis_data_single_date(ana_var, [year, month, day]), R1)\n",
    "    P1_msl = my.extract_region(my.reanalysis_data(ana_var, year, year+1, ['Mar', 'Apr', 'May', 'Jun','Jul','Aug','Sep']), R1)\n",
    "    C = correlation_coeffs(P1_msl, E)\n",
    "    W = C.index(np.max(C))\n",
    "    n = 0\n",
    "    for i in np.arange(W-10, W+10):\n",
    "        if C[i] > coeff: n+= 1\n",
    "    print(n, len(P_past))\n",
    "    P_past.append(n)"
   ]
  },
  {
   "cell_type": "code",
   "execution_count": 14,
   "id": "d44b37c6",
   "metadata": {},
   "outputs": [
    {
     "name": "stdout",
     "output_type": "stream",
     "text": [
      "Read file: /net/pc230042/nobackup/users/sager/nobackup_2_old/ERA5-CX-READY/era5_z500_daily.nc for date [1995, 'Jun', 20]\n",
      "2 0\n",
      "Read file: /net/pc230042/nobackup/users/sager/nobackup_2_old/ERA5-CX-READY/era5_z500_daily.nc for date [2010, 'Jul', 9]\n",
      "14 1\n",
      "Read file: /net/pc230042/nobackup/users/sager/nobackup_2_old/ERA5-CX-READY/era5_z500_daily.nc for date [2009, 'Aug', 19]\n",
      "7 2\n",
      "Read file: /net/pc230042/nobackup/users/sager/nobackup_2_old/ERA5-CX-READY/era5_z500_daily.nc for date [2005, 'Jun', 23]\n",
      "9 3\n",
      "Read file: /net/pc230042/nobackup/users/sager/nobackup_2_old/ERA5-CX-READY/era5_z500_daily.nc for date [2018, 'Aug', 7]\n",
      "9 4\n",
      "Read file: /net/pc230042/nobackup/users/sager/nobackup_2_old/ERA5-CX-READY/era5_z500_daily.nc for date [2004, 'Jul', 17]\n",
      "8 5\n",
      "Read file: /net/pc230042/nobackup/users/sager/nobackup_2_old/ERA5-CX-READY/era5_z500_daily.nc for date [2001, 'Aug', 14]\n",
      "8 6\n",
      "Read file: /net/pc230042/nobackup/users/sager/nobackup_2_old/ERA5-CX-READY/era5_z500_daily.nc for date [1995, 'Jul', 20]\n",
      "10 7\n",
      "Read file: /net/pc230042/nobackup/users/sager/nobackup_2_old/ERA5-CX-READY/era5_z500_daily.nc for date [2019, 'Jul', 22]\n",
      "7 8\n",
      "Read file: /net/pc230042/nobackup/users/sager/nobackup_2_old/ERA5-CX-READY/era5_z500_daily.nc for date [2000, 'Jun', 19]\n",
      "3 9\n",
      "Read file: /net/pc230042/nobackup/users/sager/nobackup_2_old/ERA5-CX-READY/era5_z500_daily.nc for date [2001, 'Aug', 25]\n",
      "10 10\n",
      "Read file: /net/pc230042/nobackup/users/sager/nobackup_2_old/ERA5-CX-READY/era5_z500_daily.nc for date [2001, 'Jun', 29]\n",
      "9 11\n",
      "Read file: /net/pc230042/nobackup/users/sager/nobackup_2_old/ERA5-CX-READY/era5_z500_daily.nc for date [2010, 'Aug', 20]\n",
      "7 12\n",
      "Read file: /net/pc230042/nobackup/users/sager/nobackup_2_old/ERA5-CX-READY/era5_z500_daily.nc for date [2012, 'Aug', 20]\n",
      "12 13\n",
      "Read file: /net/pc230042/nobackup/users/sager/nobackup_2_old/ERA5-CX-READY/era5_z500_daily.nc for date [2018, 'Aug', 28]\n",
      "5 14\n",
      "Read file: /net/pc230042/nobackup/users/sager/nobackup_2_old/ERA5-CX-READY/era5_z500_daily.nc for date [2005, 'Aug', 31]\n",
      "5 15\n",
      "Read file: /net/pc230042/nobackup/users/sager/nobackup_2_old/ERA5-CX-READY/era5_z500_daily.nc for date [2017, 'Aug', 14]\n",
      "8 16\n",
      "Read file: /net/pc230042/nobackup/users/sager/nobackup_2_old/ERA5-CX-READY/era5_z500_daily.nc for date [2022, 'Jul', 24]\n",
      "15 17\n",
      "Read file: /net/pc230042/nobackup/users/sager/nobackup_2_old/ERA5-CX-READY/era5_z500_daily.nc for date [1996, 'Jun', 5]\n",
      "9 18\n",
      "Read file: /net/pc230042/nobackup/users/sager/nobackup_2_old/ERA5-CX-READY/era5_z500_daily.nc for date [2002, 'Aug', 14]\n",
      "10 19\n",
      "Read file: /net/pc230042/nobackup/users/sager/nobackup_2_old/ERA5-CX-READY/era5_z500_daily.nc for date [2012, 'Aug', 28]\n",
      "7 20\n",
      "Read file: /net/pc230042/nobackup/users/sager/nobackup_2_old/ERA5-CX-READY/era5_z500_daily.nc for date [1999, 'Jul', 18]\n",
      "6 21\n",
      "Read file: /net/pc230042/nobackup/users/sager/nobackup_2_old/ERA5-CX-READY/era5_z500_daily.nc for date [2009, 'Aug', 31]\n",
      "6 22\n",
      "Read file: /net/pc230042/nobackup/users/sager/nobackup_2_old/ERA5-CX-READY/era5_z500_daily.nc for date [1996, 'Jun', 10]\n",
      "10 23\n",
      "Read file: /net/pc230042/nobackup/users/sager/nobackup_2_old/ERA5-CX-READY/era5_z500_daily.nc for date [2013, 'Aug', 4]\n",
      "10 24\n",
      "Read file: /net/pc230042/nobackup/users/sager/nobackup_2_old/ERA5-CX-READY/era5_z500_daily.nc for date [2011, 'Aug', 20]\n",
      "9 25\n",
      "Read file: /net/pc230042/nobackup/users/sager/nobackup_2_old/ERA5-CX-READY/era5_z500_daily.nc for date [2021, 'Jun', 16]\n",
      "4 26\n"
     ]
    }
   ],
   "source": [
    "P_prst =[]\n",
    "for date in PRST:\n",
    "    year = int(date[:4])\n",
    "    month = calendar.month_abbr[int(date[4:-2])]\n",
    "    day = int(date[-2:])\n",
    "    E = my.extract_region(my.reanalysis_data_single_date(ana_var, [year, month, day]), R1)\n",
    "    P1_msl = my.extract_region(my.reanalysis_data(ana_var, year, year+1, ['Mar', 'Apr', 'May', 'Jun','Jul','Aug','Sep']), R1)\n",
    "    C = correlation_coeffs(P1_msl, E)\n",
    "    W = C.index(np.max(C))\n",
    "    n = 0\n",
    "    for i in np.arange(W-10, W+10):\n",
    "        if C[i] > coeff: n+= 1\n",
    "    print(n, len(P_prst))\n",
    "    P_prst.append(n)"
   ]
  },
  {
   "cell_type": "code",
   "execution_count": 15,
   "id": "50ab5fcf",
   "metadata": {},
   "outputs": [
    {
     "data": {
      "text/plain": [
       "<matplotlib.legend.Legend at 0x7f603e902bb0>"
      ]
     },
     "execution_count": 15,
     "metadata": {},
     "output_type": "execute_result"
    },
    {
     "data": {
      "image/png": "[encoded data removed]",
      "text/plain": [
       "<Figure size 600x400 with 1 Axes>"
      ]
     },
     "metadata": {},
     "output_type": "display_data"
    }
   ],
   "source": [
    "# Violin plots of persistence\n",
    "fig, ax = plt.subplots(nrows=1, ncols=1, figsize=(6,4))\n",
    "colors=['g','b']\n",
    "v2 = ax.violinplot([P_past, P_prst], [1, 1.6], showmeans=False, showextrema=False, showmedians=False)\n",
    "for pc, color in zip(v2['bodies'], colors):\n",
    "    pc.set_facecolor(color)\n",
    "ax.axhline(P_event, color='r', label='Event')\n",
    "ax.axhline(np.mean(P_past), color='g', label='Past')\n",
    "ax.axhline(np.mean(P_prst), color='b', label='Present')\n",
    "ax.set_xticks([1, 1.6])\n",
    "ax.set_xticklabels(['Past', 'Present'])\n",
    "ax.set_ylabel('Days with correlation <'+str(coeff))\n",
    "ax.set_title('Persistence')\n",
    "plt.legend()\n"
   ]
  },
  {
   "cell_type": "code",
   "execution_count": 16,
   "id": "7438e4c2",
   "metadata": {},
   "outputs": [
    {
     "name": "stdout",
     "output_type": "stream",
     "text": [
      "Summary: identify analogues domain\n",
      "Event definition:\n",
      "     Date:  20210616\n",
      "Analogue calulation:\n",
      "     Months assessed:  ['Jun', 'Jul', 'Aug']\n",
      "     Number of analogues:  27\n",
      "     Analogue domain:  [70, 35, 30, -20]\n",
      "     Circulation variable:  z500\n",
      "Timeslices:\n",
      "      Past:  1950 - 1980\n",
      "      Present:  1994 - 2024\n",
      "Greater persistence in Present\n",
      "  Difference is not statistically significant\n",
      "Event smaller persistence than analogues mean\n",
      "     within range of analogues\n"
     ]
    }
   ],
   "source": [
    "# Summary print out\n",
    "print('Summary: identify analogues domain')\n",
    "print('Event definition:')\n",
    "print('     Date: ', date)\n",
    "print('Analogue calulation:')\n",
    "print('     Months assessed: ', months)\n",
    "print('     Number of analogues: ', N)\n",
    "print('     Analogue domain: ', R1)\n",
    "print('     Circulation variable: ', ana_var)\n",
    "print('Timeslices:')\n",
    "print('      Past: ',Y1,'-',Y2)\n",
    "print('      Present: ',Y3,'-',Y4)\n",
    "\n",
    "\n",
    "u, p = stats.ttest_ind(P_past, P_prst, equal_var=False, alternative='two-sided')\n",
    "if np.mean(P_past) > np.mean(P_prst):\n",
    "    print('Greater persistence in Past')\n",
    "else:\n",
    "    print('Greater persistence in Present')\n",
    "\n",
    "if p < 0.05:\n",
    "    print('  Statistically significant difference')\n",
    "else:\n",
    "    print('  Difference is not statistically significant')\n",
    "\n",
    "if P_event > np.max([np.mean(P_past), np.mean(P_prst)]):\n",
    "    print('Event greater persistence than analogues mean')\n",
    "    if P_event > np.max([np.max(P_past), np.max(P_prst)]):\n",
    "        print('     and outside range of analogues')\n",
    "    else:\n",
    "        print('     within range of analogues')\n",
    "elif P_event < np.min([np.mean(P_past), np.mean(P_prst)]):\n",
    "    print('Event smaller persistence than analogues mean')\n",
    "    if P_event > np.max([np.max(P_past), np.max(P_prst)]):\n",
    "        print('     and outside range of analogues')\n",
    "    else:\n",
    "        print('     within range of analogues')\n"
   ]
  }
 ],
 "metadata": {
  "kernelspec": {
   "display_name": "butterfly",
   "language": "python",
   "name": "python3"
  },
  "language_info": {
   "codemirror_mode": {
    "name": "ipython",
    "version": 3
   },
   "file_extension": ".py",
   "mimetype": "text/x-python",
   "name": "python",
   "nbconvert_exporter": "python",
   "pygments_lexer": "ipython3",
   "version": "3.9.18"
  }
 },
 "nbformat": 4,
 "nbformat_minor": 5
}
