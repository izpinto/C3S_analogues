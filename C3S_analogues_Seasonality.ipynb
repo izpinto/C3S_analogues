{
 "cells": [
  {
   "cell_type": "code",
   "execution_count": 9,
   "id": "787d61c7",
   "metadata": {},
   "outputs": [],
   "source": [
    "## Jupyter notebook in python\n",
    "## Assesses which month analogues are within\n",
    "\n",
    "## Caveat: "
   ]
  },
  {
   "cell_type": "code",
   "execution_count": 10,
   "id": "fa0d8b20",
   "metadata": {},
   "outputs": [],
   "source": [
    "import analogue_functions_C3S as my\n",
    "\n",
    "import xarray as xr\n",
    "import os\n",
    "import subprocess\n",
    "import numpy as np\n",
    "import iris\n",
    "import calendar\n",
    "import matplotlib.pyplot as plt\n",
    "import matplotlib\n",
    "cmaps = matplotlib.colormaps\n",
    "import sys\n",
    "import cartopy.crs as ccrs\n",
    "import cartopy as cart\n",
    "import cartopy.feature as cf\n",
    "import netCDF4 as nc\n",
    "import glob\n",
    "from iris.util import equalise_attributes\n",
    "from iris.util import unify_time_units\n"
   ]
  },
  {
   "cell_type": "code",
   "execution_count": 11,
   "id": "3df74567",
   "metadata": {},
   "outputs": [],
   "source": [
    "# Defining the variables:\n",
    "date = [2025, 'May', 17]; # Date to assess\n",
    "R1 = [80, 50, 30, -30] # Analogues domain, taken from C3S_analogues_Domain.ipynb\n",
    "ana_var = 'z500' # Circulation variable, 'msl' or 'z500', taken from C3S_analogues_VariableChoice.ipynb output\n"
   ]
  },
  {
   "cell_type": "code",
   "execution_count": 12,
   "id": "b4f68cad",
   "metadata": {},
   "outputs": [],
   "source": [
    "# Variables that should only be changed for sensitivity testing\n",
    "months=['Jan','Feb','Mar','Apr','May','Jun','Jul','Aug','Sep','Oct','Nov','Dec'] # In this script only, all months\n",
    "# Past time range\n",
    "Y1 = 1950 \n",
    "Y2 = 1980 \n",
    "# Present time range\n",
    "Y3 = 1994 \n",
    "Y4 = 2024 \n",
    "\n",
    "# number of analogues to use - set at 0.5% (assuming 30 day months) of timeslice 1 days \n",
    "N = int(((Y2-Y1)*len(months)*30)/100/2)\n",
    "# Or use this line to manually select N\n",
    "# N = 30"
   ]
  },
  {
   "cell_type": "code",
   "execution_count": 13,
   "id": "d8fbfd15",
   "metadata": {},
   "outputs": [
    {
     "name": "stdout",
     "output_type": "stream",
     "text": [
      "Read file: /net/pc230042/nobackup/users/sager/nobackup_2_old/ERA5-CX-READY/era5_t2m_daily.nc for date [2025, 'May', 17]\n",
      "Read file: /net/pc230042/nobackup/users/sager/nobackup_2_old/ERA5-CX-READY/era5_t2m_daily.nc for date [2025, 'May', 17]\n"
     ]
    },
    {
     "data": {
      "text/plain": [
       "'_daily'"
      ]
     },
     "execution_count": 13,
     "metadata": {},
     "output_type": "execute_result"
    }
   ],
   "source": [
    "# Check if using ERA5 or extended forecast (for when ERA5 not yet available)\n",
    "event_data = 'era5'\n",
    "# Initially using ERA5 daily data, if that gives no data switch to extended:\n",
    "if my.reanalysis_data_single_date('t2m', date)==None:\n",
    "    my.ERA5FILESUFFIX = \"_daily_extended\"\n",
    "    event_data = \"extended\"\n",
    "    print('ERA5 data not yet available, using ECMWF extended forecast for event data')\n",
    "\n",
    "# If extended also not available give error message:\n",
    "if my.reanalysis_data_single_date('t2m', date)==None:\n",
    "    print('Data is not available for that date, please select a date between 1 Jan 1950 and the present day')\n",
    "    quit() ## If the date has not data (ERA5 or extended) then stop here, and print message above\n",
    "\n",
    "# Check what it is using:\n",
    "my.ERA5FILESUFFIX"
   ]
  },
  {
   "cell_type": "code",
   "execution_count": 14,
   "id": "8c5679bd",
   "metadata": {},
   "outputs": [
    {
     "name": "stderr",
     "output_type": "stream",
     "text": [
      "/usr/people/thompson/anaconda3/envs/butterfly/lib/python3.9/site-packages/iris/cube.py:3859: UserWarning: Collapsing spatial coordinate 'latitude' without weighting\n",
      "  warnings.warn(msg.format(coord.name()))\n",
      "/usr/people/thompson/anaconda3/envs/butterfly/lib/python3.9/site-packages/iris/coords.py:2237: UserWarning: Cannot check if coordinate is contiguous: Invalid operation for 'latitude', with 0 bound(s). Contiguous bounds are only defined for 1D coordinates with 2 bounds. Metadata may not be fully descriptive for 'latitude'. Ignoring bounds.\n",
      "  warnings.warn(msg.format(str(exc), self.name()))\n",
      "/usr/people/thompson/anaconda3/envs/butterfly/lib/python3.9/site-packages/iris/coords.py:2237: UserWarning: Cannot check if coordinate is contiguous: Invalid operation for 'longitude', with 0 bound(s). Contiguous bounds are only defined for 1D coordinates with 2 bounds. Metadata may not be fully descriptive for 'longitude'. Ignoring bounds.\n",
      "  warnings.warn(msg.format(str(exc), self.name()))\n"
     ]
    },
    {
     "name": "stdout",
     "output_type": "stream",
     "text": [
      "Read file: /net/pc230042/nobackup/users/sager/nobackup_2_old/ERA5-CX-READY/era5_z500_daily.nc for date [2025, 'May', 17]\n"
     ]
    },
    {
     "name": "stderr",
     "output_type": "stream",
     "text": [
      "/usr/people/thompson/anaconda3/envs/butterfly/lib/python3.9/site-packages/iris/cube.py:3859: UserWarning: Collapsing spatial coordinate 'latitude' without weighting\n",
      "  warnings.warn(msg.format(coord.name()))\n",
      "/usr/people/thompson/anaconda3/envs/butterfly/lib/python3.9/site-packages/iris/coords.py:2237: UserWarning: Cannot check if coordinate is contiguous: Invalid operation for 'latitude', with 0 bound(s). Contiguous bounds are only defined for 1D coordinates with 2 bounds. Metadata may not be fully descriptive for 'latitude'. Ignoring bounds.\n",
      "  warnings.warn(msg.format(str(exc), self.name()))\n",
      "/usr/people/thompson/anaconda3/envs/butterfly/lib/python3.9/site-packages/iris/coords.py:2237: UserWarning: Cannot check if coordinate is contiguous: Invalid operation for 'longitude', with 0 bound(s). Contiguous bounds are only defined for 1D coordinates with 2 bounds. Metadata may not be fully descriptive for 'longitude'. Ignoring bounds.\n",
      "  warnings.warn(msg.format(str(exc), self.name()))\n",
      "/usr/people/thompson/anaconda3/envs/butterfly/lib/python3.9/site-packages/iris/analysis/cartography.py:413: UserWarning: Using DEFAULT_SPHERICAL_EARTH_RADIUS.\n",
      "  warnings.warn(\"Using DEFAULT_SPHERICAL_EARTH_RADIUS.\")\n",
      "/usr/people/thompson/anaconda3/envs/butterfly/lib/python3.9/site-packages/iris/cube.py:3859: UserWarning: Collapsing spatial coordinate 'latitude' without weighting\n",
      "  warnings.warn(msg.format(coord.name()))\n",
      "/usr/people/thompson/anaconda3/envs/butterfly/lib/python3.9/site-packages/iris/coords.py:2237: UserWarning: Cannot check if coordinate is contiguous: Invalid operation for 'latitude', with 0 bound(s). Contiguous bounds are only defined for 1D coordinates with 2 bounds. Metadata may not be fully descriptive for 'latitude'. Ignoring bounds.\n",
      "  warnings.warn(msg.format(str(exc), self.name()))\n",
      "/usr/people/thompson/anaconda3/envs/butterfly/lib/python3.9/site-packages/iris/coords.py:2237: UserWarning: Cannot check if coordinate is contiguous: Invalid operation for 'longitude', with 0 bound(s). Contiguous bounds are only defined for 1D coordinates with 2 bounds. Metadata may not be fully descriptive for 'longitude'. Ignoring bounds.\n",
      "  warnings.warn(msg.format(str(exc), self.name()))\n"
     ]
    },
    {
     "name": "stdout",
     "output_type": "stream",
     "text": [
      "Read file: /net/pc230042/nobackup/users/sager/nobackup_2_old/ERA5-CX-READY/era5_z500_daily.nc for date [2025, 'May', 17]\n"
     ]
    },
    {
     "name": "stderr",
     "output_type": "stream",
     "text": [
      "/usr/people/thompson/anaconda3/envs/butterfly/lib/python3.9/site-packages/iris/cube.py:3859: UserWarning: Collapsing spatial coordinate 'latitude' without weighting\n",
      "  warnings.warn(msg.format(coord.name()))\n",
      "/usr/people/thompson/anaconda3/envs/butterfly/lib/python3.9/site-packages/iris/coords.py:2237: UserWarning: Cannot check if coordinate is contiguous: Invalid operation for 'latitude', with 0 bound(s). Contiguous bounds are only defined for 1D coordinates with 2 bounds. Metadata may not be fully descriptive for 'latitude'. Ignoring bounds.\n",
      "  warnings.warn(msg.format(str(exc), self.name()))\n",
      "/usr/people/thompson/anaconda3/envs/butterfly/lib/python3.9/site-packages/iris/coords.py:2237: UserWarning: Cannot check if coordinate is contiguous: Invalid operation for 'longitude', with 0 bound(s). Contiguous bounds are only defined for 1D coordinates with 2 bounds. Metadata may not be fully descriptive for 'longitude'. Ignoring bounds.\n",
      "  warnings.warn(msg.format(str(exc), self.name()))\n",
      "/usr/people/thompson/anaconda3/envs/butterfly/lib/python3.9/site-packages/iris/analysis/cartography.py:413: UserWarning: Using DEFAULT_SPHERICAL_EARTH_RADIUS.\n",
      "  warnings.warn(\"Using DEFAULT_SPHERICAL_EARTH_RADIUS.\")\n"
     ]
    }
   ],
   "source": [
    "PAST = my.anomaly_period_outputs(Y1, Y2, ana_var, N, date, months, R1)\n",
    "PRST= my.anomaly_period_outputs(Y3, Y4, ana_var, N, date, months, R1)"
   ]
  },
  {
   "cell_type": "code",
   "execution_count": 15,
   "id": "c652e7be",
   "metadata": {},
   "outputs": [
    {
     "data": {
      "image/png": "[encoded data removed]",
      "text/plain": [
       "<Figure size 640x480 with 1 Axes>"
      ]
     },
     "metadata": {},
     "output_type": "display_data"
    }
   ],
   "source": [
    "my.plot_analogue_months(PAST, PRST)"
   ]
  }
 ],
 "metadata": {
  "kernelspec": {
   "display_name": "butterfly",
   "language": "python",
   "name": "python3"
  },
  "language_info": {
   "codemirror_mode": {
    "name": "ipython",
    "version": 3
   },
   "file_extension": ".py",
   "mimetype": "text/x-python",
   "name": "python",
   "nbconvert_exporter": "python",
   "pygments_lexer": "ipython3",
   "version": "3.9.18"
  }
 },
 "nbformat": 4,
 "nbformat_minor": 5
}
