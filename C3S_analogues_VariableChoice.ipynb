{
 "cells": [
  {
   "cell_type": "code",
   "execution_count": 1,
   "id": "834f4127",
   "metadata": {},
   "outputs": [],
   "source": [
    "## Jupyter notebook in python\n",
    "## Produces plots allowing choice of analogue domain\n",
    "\n",
    "## Caveat: "
   ]
  },
  {
   "cell_type": "code",
   "execution_count": 1,
   "id": "1f89e7f5",
   "metadata": {},
   "outputs": [],
   "source": [
    "import analogue_functions_C3S as my\n",
    "\n",
    "import xarray as xr\n",
    "import os\n",
    "import subprocess\n",
    "import numpy as np\n",
    "import iris\n",
    "import calendar\n",
    "import matplotlib.pyplot as plt\n",
    "import matplotlib\n",
    "import cartopy.crs as ccrs\n",
    "import cartopy as cart\n",
    "import cartopy.feature as cf\n",
    "import glob\n",
    "from iris.util import equalise_attributes\n",
    "from iris.util import unify_time_units\n",
    "import scipy.stats as stats\n"
   ]
  },
  {
   "cell_type": "code",
   "execution_count": 2,
   "id": "58d7e1c8",
   "metadata": {},
   "outputs": [],
   "source": [
    "# Defining the variables:\n",
    "\n",
    "date = [2025, 'May', 17]; # Date to assess, only used to determine Months\n",
    "impact_domain = [70, 65, -15, -20] # Impact region, [NORTH, SOUTH, WEST, EAST]\n",
    "Haz = 't2m' # Hazard variable, 't2m' or 'tp'\n",
    "\n",
    "# Taken from C3S_analogues_Domain.ipynb / expert judgement\n",
    "z500_domain = [80, 50, 30, -30]\n",
    "slp_domain = [80, 50, 40, -20]"
   ]
  },
  {
   "cell_type": "code",
   "execution_count": 3,
   "id": "ed33b54a",
   "metadata": {},
   "outputs": [],
   "source": [
    "### Automated variables - can be adjusted for sensitivity testing\n",
    "\n",
    "# months to include, automatically three calendar month window around the event\n",
    "month = date[1]\n",
    "X = list(calendar.month_abbr)\n",
    "i=X.index(month)\n",
    "if 1<i<12:\n",
    "    months = [X[i-1], X[i], X[i+1]]\n",
    "elif i == 1:\n",
    "    months = [X[12], X[i], X[i+1]]\n",
    "elif i ==12:\n",
    "    months = [X[i-1], X[i], X[1]]\n",
    "\n",
    "# Or use this line to manually select different month set (can be full year)\n",
    "#months = ['Jan','Feb','Mar','Apr','May','Jun','Jul','Aug','Sep','Oct','Nov','Dec']\n",
    "months = ['Mar','Apr','May']\n",
    "\n",
    "R1 = [90, -90, 0, -180]  # Assess correlation globally\n",
    "Y1 = 1950; Y2 = 2025 # Use years 1950-2025 (most available)\n",
    "\n",
    "# number of analogues to use - set at 1% (assuming 30 day months) of timeslice 1 days \n",
    "N = int(((Y2-Y1)*len(months)*30)/100)\n",
    "# Or use this line to manually select N\n",
    "# N = 30"
   ]
  },
  {
   "cell_type": "code",
   "execution_count": 4,
   "id": "04439620",
   "metadata": {},
   "outputs": [
    {
     "name": "stdout",
     "output_type": "stream",
     "text": [
      "Read file: /net/pc230042/nobackup/users/sager/nobackup_2_old/ERA5-CX-READY/era5_t2m_daily.nc for date [2025, 'May', 17]\n",
      "Read file: /net/pc230042/nobackup/users/sager/nobackup_2_old/ERA5-CX-READY/era5_t2m_daily.nc for date [2025, 'May', 17]\n",
      "Read file: /net/pc230042/nobackup/users/sager/nobackup_2_old/ERA5-CX-READY/era5_t2m_daily.nc for date [2025, 'May', 17]\n",
      "Read file: /net/pc230042/nobackup/users/sager/nobackup_2_old/ERA5-CX-READY/era5_msl_daily.nc for date [2025, 'May', 17]\n",
      "Read file: /net/pc230042/nobackup/users/sager/nobackup_2_old/ERA5-CX-READY/era5_z500_daily.nc for date [2025, 'May', 17]\n"
     ]
    }
   ],
   "source": [
    "### Get event fields\n",
    "# Check if using ERA5 or extended forecast (for when ERA5 not yet available)\n",
    "event_data = 'era5'\n",
    "# Initially using ERA5 daily data, if that gives no data switch to extended:\n",
    "if my.reanalysis_data_single_date('t2m', date)==None:\n",
    "    my.ERA5FILESUFFIX = \"_daily_extended\"\n",
    "    event_data = \"extended\"\n",
    "    print('ERA5 data not yet available, using ECMWF extended forecast for event data')\n",
    "\n",
    "# If extended also not available give error message:\n",
    "if my.reanalysis_data_single_date('t2m', date)==None:\n",
    "    print('Data is not available for that date, please select a date between 1 Jan 1950 and the present day')\n",
    "    quit() ## If the date has not data (ERA5 or extended) then stop here, and print message above\n",
    "\n",
    "# Check what it is using:\n",
    "my.ERA5FILESUFFIX\n",
    "\n",
    "event_Haz = my.reanalysis_data_single_date(Haz, date)\n",
    "event_msl = my.reanalysis_data_single_date('msl', date)\n",
    "event_z500 = my.reanalysis_data_single_date('z500', date)"
   ]
  },
  {
   "cell_type": "code",
   "execution_count": 5,
   "id": "fd5feb2c",
   "metadata": {},
   "outputs": [
    {
     "name": "stderr",
     "output_type": "stream",
     "text": [
      "/usr/people/thompson/anaconda3/envs/butterfly/lib/python3.9/site-packages/iris/cube.py:3859: UserWarning: Collapsing spatial coordinate 'latitude' without weighting\n",
      "  warnings.warn(msg.format(coord.name()))\n",
      "/usr/people/thompson/anaconda3/envs/butterfly/lib/python3.9/site-packages/iris/coords.py:2237: UserWarning: Cannot check if coordinate is contiguous: Invalid operation for 'latitude', with 0 bound(s). Contiguous bounds are only defined for 1D coordinates with 2 bounds. Metadata may not be fully descriptive for 'latitude'. Ignoring bounds.\n",
      "  warnings.warn(msg.format(str(exc), self.name()))\n",
      "/usr/people/thompson/anaconda3/envs/butterfly/lib/python3.9/site-packages/iris/coords.py:2237: UserWarning: Cannot check if coordinate is contiguous: Invalid operation for 'longitude', with 0 bound(s). Contiguous bounds are only defined for 1D coordinates with 2 bounds. Metadata may not be fully descriptive for 'longitude'. Ignoring bounds.\n",
      "  warnings.warn(msg.format(str(exc), self.name()))\n"
     ]
    },
    {
     "name": "stdout",
     "output_type": "stream",
     "text": [
      "Read file: /net/pc230042/nobackup/users/sager/nobackup_2_old/ERA5-CX-READY/era5_msl_daily.nc for date [2025, 'May', 17]\n"
     ]
    },
    {
     "name": "stderr",
     "output_type": "stream",
     "text": [
      "/usr/people/thompson/anaconda3/envs/butterfly/lib/python3.9/site-packages/iris/cube.py:3859: UserWarning: Collapsing spatial coordinate 'latitude' without weighting\n",
      "  warnings.warn(msg.format(coord.name()))\n",
      "/usr/people/thompson/anaconda3/envs/butterfly/lib/python3.9/site-packages/iris/coords.py:2237: UserWarning: Cannot check if coordinate is contiguous: Invalid operation for 'latitude', with 0 bound(s). Contiguous bounds are only defined for 1D coordinates with 2 bounds. Metadata may not be fully descriptive for 'latitude'. Ignoring bounds.\n",
      "  warnings.warn(msg.format(str(exc), self.name()))\n",
      "/usr/people/thompson/anaconda3/envs/butterfly/lib/python3.9/site-packages/iris/coords.py:2237: UserWarning: Cannot check if coordinate is contiguous: Invalid operation for 'longitude', with 0 bound(s). Contiguous bounds are only defined for 1D coordinates with 2 bounds. Metadata may not be fully descriptive for 'longitude'. Ignoring bounds.\n",
      "  warnings.warn(msg.format(str(exc), self.name()))\n",
      "/usr/people/thompson/anaconda3/envs/butterfly/lib/python3.9/site-packages/iris/analysis/cartography.py:413: UserWarning: Using DEFAULT_SPHERICAL_EARTH_RADIUS.\n",
      "  warnings.warn(\"Using DEFAULT_SPHERICAL_EARTH_RADIUS.\")\n",
      "/usr/people/thompson/anaconda3/envs/butterfly/lib/python3.9/site-packages/iris/cube.py:3859: UserWarning: Collapsing spatial coordinate 'latitude' without weighting\n",
      "  warnings.warn(msg.format(coord.name()))\n",
      "/usr/people/thompson/anaconda3/envs/butterfly/lib/python3.9/site-packages/iris/coords.py:2237: UserWarning: Cannot check if coordinate is contiguous: Invalid operation for 'latitude', with 0 bound(s). Contiguous bounds are only defined for 1D coordinates with 2 bounds. Metadata may not be fully descriptive for 'latitude'. Ignoring bounds.\n",
      "  warnings.warn(msg.format(str(exc), self.name()))\n",
      "/usr/people/thompson/anaconda3/envs/butterfly/lib/python3.9/site-packages/iris/coords.py:2237: UserWarning: Cannot check if coordinate is contiguous: Invalid operation for 'longitude', with 0 bound(s). Contiguous bounds are only defined for 1D coordinates with 2 bounds. Metadata may not be fully descriptive for 'longitude'. Ignoring bounds.\n",
      "  warnings.warn(msg.format(str(exc), self.name()))\n"
     ]
    },
    {
     "name": "stdout",
     "output_type": "stream",
     "text": [
      "Read file: /net/pc230042/nobackup/users/sager/nobackup_2_old/ERA5-CX-READY/era5_z500_daily.nc for date [2025, 'May', 17]\n"
     ]
    },
    {
     "name": "stderr",
     "output_type": "stream",
     "text": [
      "/usr/people/thompson/anaconda3/envs/butterfly/lib/python3.9/site-packages/iris/cube.py:3859: UserWarning: Collapsing spatial coordinate 'latitude' without weighting\n",
      "  warnings.warn(msg.format(coord.name()))\n",
      "/usr/people/thompson/anaconda3/envs/butterfly/lib/python3.9/site-packages/iris/coords.py:2237: UserWarning: Cannot check if coordinate is contiguous: Invalid operation for 'latitude', with 0 bound(s). Contiguous bounds are only defined for 1D coordinates with 2 bounds. Metadata may not be fully descriptive for 'latitude'. Ignoring bounds.\n",
      "  warnings.warn(msg.format(str(exc), self.name()))\n",
      "/usr/people/thompson/anaconda3/envs/butterfly/lib/python3.9/site-packages/iris/coords.py:2237: UserWarning: Cannot check if coordinate is contiguous: Invalid operation for 'longitude', with 0 bound(s). Contiguous bounds are only defined for 1D coordinates with 2 bounds. Metadata may not be fully descriptive for 'longitude'. Ignoring bounds.\n",
      "  warnings.warn(msg.format(str(exc), self.name()))\n",
      "/usr/people/thompson/anaconda3/envs/butterfly/lib/python3.9/site-packages/iris/analysis/cartography.py:413: UserWarning: Using DEFAULT_SPHERICAL_EARTH_RADIUS.\n",
      "  warnings.warn(\"Using DEFAULT_SPHERICAL_EARTH_RADIUS.\")\n"
     ]
    }
   ],
   "source": [
    "### Lists of analogues for all combination\n",
    "dates_slp = my.anomaly_period_outputs(Y1, Y2, 'msl', N, date, months, slp_domain)\n",
    "dates_z500 = my.anomaly_period_outputs(Y1, Y2, 'z500', N, date, months, z500_domain)\n"
   ]
  },
  {
   "cell_type": "code",
   "execution_count": 6,
   "id": "a9a205db",
   "metadata": {},
   "outputs": [
    {
     "name": "stderr",
     "output_type": "stream",
     "text": [
      "/usr/people/thompson/anaconda3/envs/butterfly/lib/python3.9/site-packages/iris/analysis/cartography.py:413: UserWarning: Using DEFAULT_SPHERICAL_EARTH_RADIUS.\n",
      "  warnings.warn(\"Using DEFAULT_SPHERICAL_EARTH_RADIUS.\")\n",
      "/usr/people/thompson/anaconda3/envs/butterfly/lib/python3.9/site-packages/iris/analysis/cartography.py:413: UserWarning: Using DEFAULT_SPHERICAL_EARTH_RADIUS.\n",
      "  warnings.warn(\"Using DEFAULT_SPHERICAL_EARTH_RADIUS.\")\n"
     ]
    }
   ],
   "source": [
    "# Calculate the Impact Index for all analogue dates and the event\n",
    "II_event = my.impact_index(event_Haz, impact_domain)\n",
    "\n",
    "impact_cube = my.reanalysis_data(Haz, Y1, Y2, months)\n",
    "II_z500 = []\n",
    "daily_analogues = my.analogues_list(impact_cube, dates_z500)  \n",
    "for each in daily_analogues:\n",
    "    II_z500.append(my.impact_index(each, impact_domain))\n",
    "\n",
    "II_msl = []\n",
    "daily_analogues = my.analogues_list(impact_cube, dates_slp)  \n",
    "for each in daily_analogues:\n",
    "    II_msl.append(my.impact_index(each, impact_domain))\n"
   ]
  },
  {
   "cell_type": "code",
   "execution_count": 7,
   "id": "d72638ea",
   "metadata": {},
   "outputs": [
    {
     "data": {
      "image/png": "[encoded data removed]",
      "text/plain": [
       "<Figure size 380x380 with 1 Axes>"
      ]
     },
     "metadata": {},
     "output_type": "display_data"
    }
   ],
   "source": [
    "# Violin Plot (to visually check the result)\n",
    "fig, axs = plt.subplots(nrows=1, ncols=1, figsize=(3.8,3.8))\n",
    "plots = axs.violinplot([II_z500[:30], II_msl[:30]], showmeans=True, showextrema=False, widths = .8)\n",
    "axs.axhline(II_event, color='r', label = 'Event')\n",
    "#axs.text(2.9,28.7,'Observed Event',color='r')\n",
    "axs.set_xticks([1, 2], labels=['Z500', 'SLP'])\n",
    "axs.tick_params(axis='x', length=0)"
   ]
  },
  {
   "cell_type": "code",
   "execution_count": null,
   "id": "c5041f35",
   "metadata": {},
   "outputs": [
    {
     "name": "stderr",
     "output_type": "stream",
     "text": [
      "/usr/people/thompson/anaconda3/envs/butterfly/lib/python3.9/site-packages/numpy/core/fromnumeric.py:3464: RuntimeWarning: Mean of empty slice.\n",
      "  return _methods._mean(a, axis=axis, dtype=dtype,\n",
      "/usr/people/thompson/anaconda3/envs/butterfly/lib/python3.9/site-packages/numpy/core/_methods.py:192: RuntimeWarning: invalid value encountered in scalar divide\n",
      "  ret = ret.dtype.type(ret / rcount)\n"
     ]
    },
    {
     "data": {
      "text/plain": [
       "Text(0.5, 1.0, 'Choice of circulation variable (which is higher?)')"
      ]
     },
     "execution_count": 8,
     "metadata": {},
     "output_type": "execute_result"
    },
    {
     "data": {
      "image/png": "[encoded data removed]",
      "text/plain": [
       "<Figure size 640x480 with 1 Axes>"
      ]
     },
     "metadata": {},
     "output_type": "display_data"
    }
   ],
   "source": [
    "# Shown for larger range of analogue proportions\n",
    "meanT = []\n",
    "for i in np.arange(len(II_z500)):\n",
    "    meanT.append(np.mean(II_z500[:i]))\n",
    "\n",
    "plt.plot(meanT, 'b', label = 'Z500')\n",
    "\n",
    "meanT = []\n",
    "for i in np.arange(len(II_msl)):\n",
    "    meanT.append(np.mean(II_msl[:i]))\n",
    "\n",
    "plt.plot(meanT, 'r', label = 'SLP')\n",
    "plt.xlim([20, N])\n",
    "plt.axhline(II_event, color='k', label = 'Event')\n",
    "plt.legend() \n",
    "plt.ylabel('Hazard')\n",
    "plt.xlabel('# of analogues')\n",
    "plt.title('Choice of circulation variable (which is higher?)')"
   ]
  },
  {
   "cell_type": "code",
   "execution_count": null,
   "id": "75d36ea6",
   "metadata": {},
   "outputs": [
    {
     "name": "stdout",
     "output_type": "stream",
     "text": [
      "Summary: identify analogues domain\n",
      "Event definition:\n",
      "     Date:  [2025, 'May', 17]\n",
      "     Hazard:  t2m\n",
      "     Impact domain:  [70, 65, -15, -20]\n",
      "     Months assessed:  ['Mar', 'Apr', 'May']\n",
      "     Number of analogues:  67\n",
      "     Z500 domain: [80, 50, 30, -30]\n",
      "     MSL domain: [80, 50, 40, -20]\n",
      "Results:\n",
      "Recommend using Z500\n",
      "  Difference is not statistically significant\n"
     ]
    }
   ],
   "source": [
    "# Summary print out\n",
    "print('Summary: identify circulation variable')\n",
    "print('Event definition:')\n",
    "print('     Date: ', date)\n",
    "print('     Hazard: ', Haz)\n",
    "print('     Impact domain: ', impact_domain)\n",
    "print('     Months assessed: ', months)\n",
    "print('     Number of analogues: ', N)\n",
    "print('     Z500 domain:', z500_domain)\n",
    "print('     MSL domain:', slp_domain)\n",
    "print('Results:')\n",
    "\n",
    "u, p = stats.ttest_ind(II_z500, II_msl, equal_var=False, alternative='two-sided')\n",
    "if np.mean(II_z500) > np.mean(II_msl):\n",
    "    print('Recommend using Z500')\n",
    "else:\n",
    "    print('Recommend using SLP')\n",
    "\n",
    "if p < 0.05:\n",
    "    print('  Statistically significant difference')\n",
    "else:\n",
    "    print('  Difference is not statistically significant')\n"
   ]
  }
 ],
 "metadata": {
  "kernelspec": {
   "display_name": "butterfly",
   "language": "python",
   "name": "python3"
  },
  "language_info": {
   "codemirror_mode": {
    "name": "ipython",
    "version": 3
   },
   "file_extension": ".py",
   "mimetype": "text/x-python",
   "name": "python",
   "nbconvert_exporter": "python",
   "pygments_lexer": "ipython3",
   "version": "3.9.18"
  }
 },
 "nbformat": 4,
 "nbformat_minor": 5
}
